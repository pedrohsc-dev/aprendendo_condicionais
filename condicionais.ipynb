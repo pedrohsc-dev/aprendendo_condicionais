{
 "cells": [
  {
   "cell_type": "markdown",
   "metadata": {},
   "source": [
    "# CONDICIONAIS\n",
    "\n"
   ]
  },
  {
   "cell_type": "markdown",
   "metadata": {},
   "source": [
    "* Importância das condicionais.\n",
    "As condicionais estão entrelaçadas com a lógica de programação, pois você executa comandos apartir de condições que são atribuídas de acordo com as variáveis establecidas.\n",
    "\n",
    "**Exemplo**\n",
    "\n",
    "Entendendo como funciona as condicionais. "
   ]
  },
  {
   "cell_type": "code",
   "execution_count": 1,
   "metadata": {},
   "outputs": [
    {
     "name": "stdout",
     "output_type": "stream",
     "text": [
      "Você é maior de idade.\n"
     ]
    }
   ],
   "source": [
    "#Int\n",
    "\n",
    "#Nesse código temos um exemplo simples de condicional, onde oferece ao programa apenas duas opções.\n",
    "#Criando uma variável idade que sera atribuida a ela um valor inteiro por meio da função input.\n",
    "#Onde se idade for maior ou igual a 18; então o programa retornará a mensagem \"Você é maior de idade.\" \n",
    "idade = int(input(f\"digite sua idade: \"))\n",
    "if idade >= 18:\n",
    "    print(\"Você é maior de idade.\")\n",
    "# Se não, então retornara a mesnagem \"Você é menor de idade.\"\n",
    "else:\n",
    "    print(\"Você é menor de idade.\")"
   ]
  },
  {
   "cell_type": "code",
   "execution_count": 2,
   "metadata": {},
   "outputs": [
    {
     "name": "stdout",
     "output_type": "stream",
     "text": [
      "Acesso liberado.\n"
     ]
    }
   ],
   "source": [
    "#string\n",
    "\n",
    "#Nesse exemplo acontence parecido com o anterior, a diferença é que aqui o código ira verificar uma string \n",
    "\n",
    "senha = \"FeaDevTop123\"\n",
    "senha2 = input(f\"Digite sua senha:\")\n",
    "# Onde se o valor de \"senha2\" for igual a \"senha\", então o programa retornará a mensagem \"Acesso liberado\"\n",
    "if senha2 == senha:\n",
    "    print(\"Acesso liberado.\")\n",
    "# Se não retornará \"Acesso Negado\"\n",
    "else:\n",
    "    print(\"Acesso negado.\")"
   ]
  },
  {
   "cell_type": "markdown",
   "metadata": {},
   "source": [
    "Conseguimos observar nos exemplos acima como é o funcionamento de condicionais simples, e a utilização do comando *if* e *else*, onde o primeiro executara uma ação apenas se a condição inposta a ele for verdadeiera, caso contrário ira executar a ação atribuida a segunda.\n",
    "\n",
    "Mas e se tiver mais de duas opções? Ai utilizaremos o comando *elif*, que consegue fazer uum código com mais de duas condições.\n",
    "\n",
    "**Exemplo**"
   ]
  },
  {
   "cell_type": "code",
   "execution_count": 7,
   "metadata": {},
   "outputs": [
    {
     "name": "stdout",
     "output_type": "stream",
     "text": [
      "Você já é considerado um adulto!\n"
     ]
    }
   ],
   "source": [
    "# Usando elif\n",
    "\n",
    "idade = int(input(\"Me informe a sua idade para eu saber à qual faixa etária você pertence: \"))\n",
    "\n",
    "if idade >= 1 and idade <= 19:\n",
    "    print(\"Você é joven ainda!\")\n",
    "elif idade >= 20 and idade <=59:\n",
    "    print(\"Você já é considerado um adulto!\")\n",
    "elif idade > 60:\n",
    "    print(\"Você já acumulou muita sabedoria ao longo dessa vida e por tanto já pode ser considerado um idoso!\")\n",
    "else:\n",
    "    print(\"Provavelmente você não digitou uma idade valida!\")\n"
   ]
  }
 ],
 "metadata": {
  "kernelspec": {
   "display_name": "Python 3",
   "language": "python",
   "name": "python3"
  },
  "language_info": {
   "codemirror_mode": {
    "name": "ipython",
    "version": 3
   },
   "file_extension": ".py",
   "mimetype": "text/x-python",
   "name": "python",
   "nbconvert_exporter": "python",
   "pygments_lexer": "ipython3",
   "version": "3.11.6"
  },
  "orig_nbformat": 4
 },
 "nbformat": 4,
 "nbformat_minor": 2
}
