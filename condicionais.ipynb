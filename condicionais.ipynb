{
 "cells": [
  {
   "cell_type": "markdown",
   "metadata": {},
   "source": [
    "# CONDICIONAIS\n",
    "\n",
    "Nessa aula iremos:\n",
    "\n",
    "1. Compreender a importância das condicionais para a programação.\n",
    "2. Entender como funcionam as condicionais.\n",
    "3. Ver operadores aritiméticos (+; -; *; /; //; %; **).\n",
    "4. Operadores de comparação (>; >=; <; <=; ==; !=).\n",
    "5. Operadores lógicos!!! (and, or, not).\n",
    "6. Operadores de identidade (is, is not).\n",
    "7. Operadores de Associação (in, not in).\n",
    "8. Como usar as condicionais com os comandos if, elif e else!!!\n",
    "9. Ver exemplos e exercícios."
   ]
  },
  {
   "cell_type": "markdown",
   "metadata": {},
   "source": [
    "1. Importância das condicionais.\n",
    "As condicionais estão entrelaçadas com a lógica de programação, pois você executa comandos apartir de condições que são atribuídas de acordo com as variáveis establecidas.\n",
    "\n",
    "**Exemplo**"
   ]
  },
  {
   "cell_type": "code",
   "execution_count": 1,
   "metadata": {},
   "outputs": [
    {
     "name": "stdout",
     "output_type": "stream",
     "text": [
      "Você é maior de idade.\n"
     ]
    }
   ],
   "source": [
    "#Int\n",
    "\n",
    "idade = int(input(f\"digite sua idade: \"))\n",
    "if idade >= 18:\n",
    "    print(\"Você é maior de idade.\")\n",
    "else:\n",
    "    print(\"Você é menor de idade.\")"
   ]
  },
  {
   "cell_type": "code",
   "execution_count": 2,
   "metadata": {},
   "outputs": [
    {
     "name": "stdout",
     "output_type": "stream",
     "text": [
      "Acesso liberado.\n"
     ]
    }
   ],
   "source": [
    "#string\n",
    "\n",
    "senha = \"FeaDevTop123\"\n",
    "senha2 = input(f\"Digite sua senha:\")\n",
    "if senha2 == senha:\n",
    "    print(\"Acesso liberado.\")\n",
    "else:\n",
    "    print(\"Acesso negado.\")"
   ]
  },
  {
   "cell_type": "code",
   "execution_count": null,
   "metadata": {},
   "outputs": [],
   "source": []
  }
 ],
 "metadata": {
  "kernelspec": {
   "display_name": "Python 3",
   "language": "python",
   "name": "python3"
  },
  "language_info": {
   "codemirror_mode": {
    "name": "ipython",
    "version": 3
   },
   "file_extension": ".py",
   "mimetype": "text/x-python",
   "name": "python",
   "nbconvert_exporter": "python",
   "pygments_lexer": "ipython3",
   "version": "3.11.6"
  },
  "orig_nbformat": 4
 },
 "nbformat": 4,
 "nbformat_minor": 2
}
